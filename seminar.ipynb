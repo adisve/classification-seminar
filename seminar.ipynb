{
 "cells": [
  {
   "cell_type": "code",
   "execution_count": 1,
   "metadata": {},
   "outputs": [],
   "source": [
    "import pandas as pd\n",
    "from sklearn.model_selection import train_test_split\n",
    "\n",
    "csv_path = 'Heart_Attack_Classification.csv'\n",
    "df = pd.read_csv(csv_path, sep=';', quotechar='\"')\n",
    "\n",
    "# Risk of heart attack is the target variable\n",
    "X = df.drop('Risk of heart attack', axis=1)\n",
    "y = df['Risk of heart attack']\n",
    "\n",
    "X_train, X_test, y_train, y_test = train_test_split(X, y, test_size=0.3, random_state=109)\n",
    "\n",
    "# Make a copy of the original data to make changes on\n",
    "X_train_copy = X_train.copy()\n",
    "X_test_copy = X_test.copy()\n"
   ]
  },
  {
   "cell_type": "markdown",
   "metadata": {},
   "source": [
    "Visualize the variability of variables in the features present in the data i.e how dispersed the data are from each other in that particular variable."
   ]
  },
  {
   "cell_type": "code",
   "execution_count": 2,
   "metadata": {},
   "outputs": [
    {
     "data": {
      "text/plain": [
       "Age                         39\n",
       "Sex                          2\n",
       "Chest pain                   4\n",
       "Blood pressure              43\n",
       "Cholestoral                127\n",
       "Diabetes                     2\n",
       "Max heart rate              87\n",
       "Exercice induced angina      2\n",
       "Number of vessels            5\n",
       "Other observations           4\n",
       "dtype: int64"
      ]
     },
     "execution_count": 2,
     "metadata": {},
     "output_type": "execute_result"
    }
   ],
   "source": [
    "unique = X_train.nunique(axis=0)\n",
    "unique"
   ]
  },
  {
   "cell_type": "code",
   "execution_count": 3,
   "metadata": {},
   "outputs": [
    {
     "data": {
      "text/html": [
       "<div>\n",
       "<style scoped>\n",
       "    .dataframe tbody tr th:only-of-type {\n",
       "        vertical-align: middle;\n",
       "    }\n",
       "\n",
       "    .dataframe tbody tr th {\n",
       "        vertical-align: top;\n",
       "    }\n",
       "\n",
       "    .dataframe thead th {\n",
       "        text-align: right;\n",
       "    }\n",
       "</style>\n",
       "<table border=\"1\" class=\"dataframe\">\n",
       "  <thead>\n",
       "    <tr style=\"text-align: right;\">\n",
       "      <th></th>\n",
       "      <th>0</th>\n",
       "    </tr>\n",
       "  </thead>\n",
       "  <tbody>\n",
       "    <tr>\n",
       "      <th>Cholestoral</th>\n",
       "      <td>127</td>\n",
       "    </tr>\n",
       "    <tr>\n",
       "      <th>Max heart rate</th>\n",
       "      <td>87</td>\n",
       "    </tr>\n",
       "    <tr>\n",
       "      <th>Blood pressure</th>\n",
       "      <td>43</td>\n",
       "    </tr>\n",
       "    <tr>\n",
       "      <th>Age</th>\n",
       "      <td>39</td>\n",
       "    </tr>\n",
       "    <tr>\n",
       "      <th>Number of vessels</th>\n",
       "      <td>5</td>\n",
       "    </tr>\n",
       "    <tr>\n",
       "      <th>Chest pain</th>\n",
       "      <td>4</td>\n",
       "    </tr>\n",
       "    <tr>\n",
       "      <th>Other observations</th>\n",
       "      <td>4</td>\n",
       "    </tr>\n",
       "    <tr>\n",
       "      <th>Sex</th>\n",
       "      <td>2</td>\n",
       "    </tr>\n",
       "    <tr>\n",
       "      <th>Diabetes</th>\n",
       "      <td>2</td>\n",
       "    </tr>\n",
       "    <tr>\n",
       "      <th>Exercice induced angina</th>\n",
       "      <td>2</td>\n",
       "    </tr>\n",
       "  </tbody>\n",
       "</table>\n",
       "</div>"
      ],
      "text/plain": [
       "                           0\n",
       "Cholestoral              127\n",
       "Max heart rate            87\n",
       "Blood pressure            43\n",
       "Age                       39\n",
       "Number of vessels          5\n",
       "Chest pain                 4\n",
       "Other observations         4\n",
       "Sex                        2\n",
       "Diabetes                   2\n",
       "Exercice induced angina    2"
      ]
     },
     "execution_count": 3,
     "metadata": {},
     "output_type": "execute_result"
    }
   ],
   "source": [
    "variability = pd.DataFrame(unique).sort_values(by=0, ascending=False)\n",
    "variability"
   ]
  },
  {
   "cell_type": "markdown",
   "metadata": {},
   "source": [
    "As we can see from the chart above, cholesterol and max heart rate have the highest variability."
   ]
  },
  {
   "cell_type": "markdown",
   "metadata": {},
   "source": [
    "We’ll separate the data into Categoricaland numerical data so as to fill them using different filling methods."
   ]
  },
  {
   "cell_type": "code",
   "execution_count": 4,
   "metadata": {},
   "outputs": [],
   "source": [
    "# Handle missing values for object types\n",
    "X_train_object = X_train_copy.select_dtypes(include=['object'])\n",
    "X_test_object = X_test_copy.select_dtypes(include=['object'])"
   ]
  },
  {
   "cell_type": "markdown",
   "metadata": {},
   "source": [
    "The NaNs present in the object columns will be replaced with the mode of the column respectively"
   ]
  },
  {
   "cell_type": "code",
   "execution_count": 5,
   "metadata": {},
   "outputs": [],
   "source": [
    "for i in X_train_object.columns:\n",
    "    mode_value = X_train_object[i].mode()[0]\n",
    "    X_train_copy[i].fillna(mode_value, inplace=True)\n",
    "    X_test_copy[i].fillna(mode_value, inplace=True)\n"
   ]
  },
  {
   "cell_type": "markdown",
   "metadata": {},
   "source": [
    "The numeric dataset with NaN values will be filled with the median"
   ]
  },
  {
   "cell_type": "code",
   "execution_count": 6,
   "metadata": {},
   "outputs": [],
   "source": [
    "# Handle missing values for numerical types\n",
    "X_train_value = X_train_copy.select_dtypes(exclude=['object'])\n",
    "X_test_value = X_test_copy.select_dtypes(exclude=['object'])\n",
    "\n",
    "for i in X_train_value.columns:\n",
    "    median_value = X_train_copy[i].median()\n",
    "    X_train_copy[i].fillna(median_value, inplace=True)\n",
    "    X_test_copy[i].fillna(median_value, inplace=True)"
   ]
  },
  {
   "cell_type": "markdown",
   "metadata": {},
   "source": [
    "Encode categorical values with appropriate labels using Label Encoder"
   ]
  },
  {
   "cell_type": "code",
   "execution_count": 7,
   "metadata": {},
   "outputs": [],
   "source": [
    "from sklearn.preprocessing import LabelEncoder\n",
    "\n",
    "lb = LabelEncoder()\n",
    "\n",
    "X_train_object = X_train_copy.select_dtypes(include=['object'])\n",
    "\n",
    "for i in X_train_object.columns:\n",
    "    lb.fit(X_train_copy[i])\n",
    "    X_train_copy[i] = lb.transform(X_train_copy[i])\n",
    "    X_test_copy[i] = lb.transform(X_test_copy[i])\n",
    "    "
   ]
  },
  {
   "cell_type": "markdown",
   "metadata": {},
   "source": [
    "Make sure data that is absent in the training set does not exist in the test set by checking for any columns in X_test_copy that are not in X_train_copy and drop them"
   ]
  },
  {
   "cell_type": "code",
   "execution_count": 8,
   "metadata": {},
   "outputs": [],
   "source": [
    "for col in X_test_copy.columns:\n",
    "    if col not in X_train_copy.columns:\n",
    "        X_test_copy.drop([col], inplace=True, axis=1)"
   ]
  },
  {
   "cell_type": "markdown",
   "metadata": {},
   "source": [
    "Use the Z-score to identify and remove outliers from the dataset"
   ]
  },
  {
   "cell_type": "code",
   "execution_count": 9,
   "metadata": {},
   "outputs": [],
   "source": [
    "from scipy import stats\n",
    "import numpy as np\n",
    "\n",
    "z_scores = np.abs(stats.zscore(X_train_copy))\n",
    "filtered_entries = (z_scores < 3).all(axis=1)\n",
    "\n",
    "X_train_copy = X_train_copy[filtered_entries]\n",
    "y_train = y_train[filtered_entries]\n"
   ]
  },
  {
   "cell_type": "markdown",
   "metadata": {},
   "source": [
    "Fit data to two different scalers which we will use for achieving the best AUC score"
   ]
  },
  {
   "cell_type": "code",
   "execution_count": 10,
   "metadata": {},
   "outputs": [],
   "source": [
    "from sklearn.preprocessing import StandardScaler, MinMaxScaler\n",
    "\n",
    "# Using StandardScaler\n",
    "scaler_std = StandardScaler()\n",
    "X_train_std = scaler_std.fit_transform(X_train_copy)\n",
    "X_test_std = scaler_std.fit_transform(X_test_copy)\n",
    "\n",
    "# Using MinMaxScaler\n",
    "scaler_minmax = MinMaxScaler()\n",
    "X_train_minmax = scaler_minmax.fit_transform(X_train_copy)\n",
    "X_test_minmax = scaler_minmax.fit_transform(X_test_copy)"
   ]
  },
  {
   "cell_type": "markdown",
   "metadata": {},
   "source": [
    "## Using MinMaxScaler"
   ]
  },
  {
   "cell_type": "markdown",
   "metadata": {},
   "source": [
    "Fitting using Logistic Regression"
   ]
  },
  {
   "cell_type": "code",
   "execution_count": 11,
   "metadata": {},
   "outputs": [
    {
     "name": "stdout",
     "output_type": "stream",
     "text": [
      "Logistic regression prediction score for MinMaxScaler: 0.9160021265284424\n"
     ]
    }
   ],
   "source": [
    "from sklearn.linear_model import LogisticRegression\n",
    "from sklearn.metrics import roc_auc_score\n",
    "\n",
    "Lr = LogisticRegression(max_iter=1000)\n",
    "Lr.fit(X_train_minmax, y_train)\n",
    "\n",
    "y_pred = Lr.predict_proba(X_test_minmax)[:,1]\n",
    "prediction_score = roc_auc_score(y_test, y_pred)\n",
    "print (f'Logistic regression prediction score for MinMaxScaler: {prediction_score}')"
   ]
  },
  {
   "cell_type": "markdown",
   "metadata": {},
   "source": [
    "Fitting using Gradient Boosting"
   ]
  },
  {
   "cell_type": "code",
   "execution_count": 12,
   "metadata": {},
   "outputs": [
    {
     "name": "stdout",
     "output_type": "stream",
     "text": [
      "Gradient Boosting prediction score: 0.8654970760233918\n"
     ]
    }
   ],
   "source": [
    "from sklearn.ensemble import GradientBoostingClassifier\n",
    "\n",
    "gb = GradientBoostingClassifier()\n",
    "gb.fit(X_train_minmax, y_train)\n",
    "\n",
    "y_pred = gb.predict_proba(X_test_minmax)[:,1]\n",
    "prediction_score=roc_auc_score(y_test, y_pred)\n",
    "\n",
    "print (f'Gradient Boosting prediction score: {prediction_score}')"
   ]
  },
  {
   "cell_type": "markdown",
   "metadata": {},
   "source": [
    "Fitting using Random Forest classifier"
   ]
  },
  {
   "cell_type": "code",
   "execution_count": 13,
   "metadata": {},
   "outputs": [
    {
     "name": "stdout",
     "output_type": "stream",
     "text": [
      "Random Forest prediction score: 0.9032429558745347\n"
     ]
    }
   ],
   "source": [
    "from sklearn.ensemble import RandomForestClassifier\n",
    "\n",
    "rf = RandomForestClassifier()\n",
    "rf.fit(X_train_minmax, y_train)\n",
    "\n",
    "y_pred = rf.predict_proba(X_test_minmax)[:,1]\n",
    "prediction_score = roc_auc_score(y_test, y_pred)\n",
    "\n",
    "print (f'Random Forest prediction score: {prediction_score}')"
   ]
  },
  {
   "cell_type": "markdown",
   "metadata": {},
   "source": [
    "Fitting using SVM classifier"
   ]
  },
  {
   "cell_type": "code",
   "execution_count": 14,
   "metadata": {},
   "outputs": [
    {
     "name": "stdout",
     "output_type": "stream",
     "text": [
      "SVM prediction score: 0.8952684742158427\n"
     ]
    }
   ],
   "source": [
    "from sklearn import svm\n",
    "\n",
    "svm = svm.SVC(kernel='linear', probability=True)\n",
    "svm.fit(X_train_minmax, y_train)\n",
    "\n",
    "y_pred = svm.predict_proba(X_test_minmax)[:,1]\n",
    "prediction_score = roc_auc_score(y_test, y_pred)\n",
    "\n",
    "print (f'SVM prediction score: {prediction_score}')"
   ]
  },
  {
   "cell_type": "markdown",
   "metadata": {},
   "source": [
    "## Using StandardScaler"
   ]
  },
  {
   "cell_type": "markdown",
   "metadata": {},
   "source": [
    "Fitting using Logistic Regression"
   ]
  },
  {
   "cell_type": "code",
   "execution_count": 15,
   "metadata": {},
   "outputs": [
    {
     "name": "stdout",
     "output_type": "stream",
     "text": [
      "Logistic regression prediction score for StandardScaler: 0.898989898989899\n"
     ]
    }
   ],
   "source": [
    "from sklearn.linear_model import LogisticRegression\n",
    "from sklearn.metrics import roc_auc_score\n",
    "\n",
    "Lr = LogisticRegression(max_iter=1000)\n",
    "Lr.fit(X_train_std, y_train)\n",
    "\n",
    "y_pred = Lr.predict_proba(X_test_std)[:,1]\n",
    "prediction_score = roc_auc_score(y_test, y_pred)\n",
    "print (f'Logistic regression prediction score for StandardScaler: {prediction_score}')"
   ]
  },
  {
   "cell_type": "markdown",
   "metadata": {},
   "source": [
    "Fitting using Gradient Boosting"
   ]
  },
  {
   "cell_type": "code",
   "execution_count": 16,
   "metadata": {},
   "outputs": [
    {
     "name": "stdout",
     "output_type": "stream",
     "text": [
      "Gradient Boosting prediction score: 0.8841041998936735\n"
     ]
    }
   ],
   "source": [
    "from sklearn.ensemble import GradientBoostingClassifier\n",
    "\n",
    "gb = GradientBoostingClassifier()\n",
    "gb.fit(X_train_std, y_train)\n",
    "\n",
    "y_pred = gb.predict_proba(X_test_std)[:,1]\n",
    "prediction_score=roc_auc_score(y_test, y_pred)\n",
    "\n",
    "print (f'Gradient Boosting prediction score: {prediction_score}')"
   ]
  },
  {
   "cell_type": "markdown",
   "metadata": {},
   "source": [
    "Fitting using Random Forest Classifier"
   ]
  },
  {
   "cell_type": "code",
   "execution_count": 17,
   "metadata": {},
   "outputs": [
    {
     "name": "stdout",
     "output_type": "stream",
     "text": [
      "Random Forest prediction score: 0.9271664008506114\n"
     ]
    }
   ],
   "source": [
    "from sklearn.ensemble import RandomForestClassifier\n",
    "\n",
    "rf = RandomForestClassifier()\n",
    "rf.fit(X_train_std, y_train)\n",
    "\n",
    "y_pred = rf.predict_proba(X_test_std)[:,1]\n",
    "prediction_score = roc_auc_score(y_test, y_pred)\n",
    "\n",
    "print (f'Random Forest prediction score: {prediction_score}')"
   ]
  },
  {
   "cell_type": "markdown",
   "metadata": {},
   "source": [
    "Fitting using SVM"
   ]
  },
  {
   "cell_type": "code",
   "execution_count": 18,
   "metadata": {},
   "outputs": [
    {
     "name": "stdout",
     "output_type": "stream",
     "text": [
      "SVM prediction score: 0.8926103136629452\n"
     ]
    }
   ],
   "source": [
    "from sklearn import svm\n",
    "\n",
    "svm = svm.SVC(kernel='linear', probability=True)\n",
    "svm.fit(X_train_std, y_train)\n",
    "\n",
    "y_pred = svm.predict_proba(X_test_std)[:,1]\n",
    "prediction_score = roc_auc_score(y_test, y_pred)\n",
    "\n",
    "print (f'SVM prediction score: {prediction_score}')"
   ]
  }
 ],
 "metadata": {
  "kernelspec": {
   "display_name": ".venv",
   "language": "python",
   "name": "python3"
  },
  "language_info": {
   "codemirror_mode": {
    "name": "ipython",
    "version": 3
   },
   "file_extension": ".py",
   "mimetype": "text/x-python",
   "name": "python",
   "nbconvert_exporter": "python",
   "pygments_lexer": "ipython3",
   "version": "3.11.1"
  },
  "orig_nbformat": 4
 },
 "nbformat": 4,
 "nbformat_minor": 2
}
