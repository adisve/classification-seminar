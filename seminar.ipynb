{
 "cells": [
  {
   "cell_type": "code",
   "execution_count": 135,
   "metadata": {},
   "outputs": [
    {
     "name": "stdout",
     "output_type": "stream",
     "text": [
      "   Age     Sex           Chest pain  Blood pressure  Cholestoral Diabetes  \\\n",
      "0   59  Female         Asymptomatic             140          177       No   \n",
      "1   60  Female         Asymptomatic             125          258       No   \n",
      "2   64  Female         Asymptomatic             128          263       No   \n",
      "3   76    Male  Non-atypical angina             140          197       No   \n",
      "4   65    Male         Asymptomatic             150          225       No   \n",
      "\n",
      "   Max heart rate Exercice induced angina  Number of vessels  \\\n",
      "0             162                     Yes                  1   \n",
      "1             141                     Yes                  1   \n",
      "2             105                     Yes                  1   \n",
      "3             116                      No                  0   \n",
      "4             114                      No                  3   \n",
      "\n",
      "         Other observations Risk of heart attack  \n",
      "0  Reversible vessel defect                   No  \n",
      "1  Reversible vessel defect                   No  \n",
      "2  Reversible vessel defect                  Yes  \n",
      "3         Normal blood flow                  Yes  \n",
      "4  Reversible vessel defect                   No  \n"
     ]
    }
   ],
   "source": [
    "import pandas as pd\n",
    "\n",
    "csv_path = 'Heart_Attack_Classification.csv'\n",
    "df = pd.read_csv(csv_path, sep=';', quotechar='\"')\n",
    "print(df.head())"
   ]
  },
  {
   "cell_type": "markdown",
   "metadata": {},
   "source": [
    "Create a heatmap of the data to see the correlation between features"
   ]
  },
  {
   "cell_type": "code",
   "execution_count": null,
   "metadata": {},
   "outputs": [],
   "source": [
    "import seaborn as sns\n",
    "import matplotlib.pyplot as plt\n",
    "\n",
    "replace_dict = {\n",
    "  'Yes': 1, \n",
    "  'No': 0, \n",
    "  'Female': 1, \n",
    "  'Male': 0,\n",
    "  'Typical angina': 0,\n",
    "  'Atypical angina': 0,\n",
    "  'Non-atypical angina': 0, \n",
    "  'Asymptomatic': 1,\n",
    "  'Blood disorder': 1,\n",
    "  'Reversible vessel defect': 1,\n",
    "  'Fixed vessel defect': 0,\n",
    "  'Normal blood flow' : 0\n",
    "}\n",
    "\n",
    "df.replace(replace_dict, inplace=True)\n",
    "\n",
    "df.fillna(0, inplace=True)\n",
    "\n",
    "print(df.head())\n",
    "\n",
    "corr_matrix = df.corr(numeric_only=False)\n",
    "sns.heatmap(corr_matrix, annot=True)\n",
    "\n",
    "sns.pairplot(df)\n",
    "plt.show()"
   ]
  },
  {
   "cell_type": "markdown",
   "metadata": {},
   "source": [
    "### Pre-process data"
   ]
  },
  {
   "cell_type": "code",
   "execution_count": 165,
   "metadata": {},
   "outputs": [],
   "source": [
    "from sklearn.ensemble import RandomForestClassifier\n",
    "from sklearn.model_selection import train_test_split\n",
    "from sklearn.metrics import accuracy_score\n",
    "\n",
    "# Risk of heart attack is the target variable\n",
    "X = df.drop('Risk of heart attack', axis=1) # Features\n",
    "y = df['Risk of heart attack'] # Target\n",
    "\n",
    "# Train-test split\n",
    "X_train, X_test, y_train, y_test = train_test_split(X, y, test_size=0.8, random_state=42)"
   ]
  },
  {
   "cell_type": "code",
   "execution_count": 173,
   "metadata": {},
   "outputs": [
    {
     "name": "stdout",
     "output_type": "stream",
     "text": [
      "Random Forest Classifier Accuracy: 0.7875\n"
     ]
    }
   ],
   "source": [
    "# Initialize classifier\n",
    "rf_clf = RandomForestClassifier()\n",
    "\n",
    "# Fit model\n",
    "rf_clf.fit(X_train, y_train)\n",
    "\n",
    "# Predict\n",
    "y_pred = rf_clf.predict(X_test)\n",
    "\n",
    "# Evaluate model\n",
    "accuracy = accuracy_score(y_test, y_pred)\n",
    "print(f'Random Forest Classifier Accuracy: {accuracy}')"
   ]
  },
  {
   "cell_type": "code",
   "execution_count": 80,
   "metadata": {},
   "outputs": [
    {
     "name": "stdout",
     "output_type": "stream",
     "text": [
      "SVM Classifier Accuracy: 0.6833333333333333\n"
     ]
    },
    {
     "name": "stderr",
     "output_type": "stream",
     "text": [
      "c:\\Users\\Adis Veletanlic\\Git\\classification-seminar\\.venv\\lib\\site-packages\\sklearn\\svm\\_classes.py:32: FutureWarning: The default value of `dual` will change from `True` to `'auto'` in 1.5. Set the value of `dual` explicitly to suppress the warning.\n",
      "  warnings.warn(\n"
     ]
    }
   ],
   "source": [
    "from sklearn.preprocessing import PolynomialFeatures\n",
    "from sklearn.pipeline import make_pipeline\n",
    "from sklearn.preprocessing import StandardScaler\n",
    "from sklearn.svm import LinearSVC\n",
    "\n",
    "# Initialize classifier\n",
    "svm_clf = make_pipeline(\n",
    "  PolynomialFeatures(degree=2),\n",
    "  StandardScaler(),\n",
    "  LinearSVC(C=5, max_iter=10_000, random_state=42)\n",
    ")\n",
    "\n",
    "# Fit the model\n",
    "svm_clf.fit(X_train, y_train)\n",
    "\n",
    "# Predict\n",
    "y_pred = svm_clf.predict(X_test)\n",
    "\n",
    "# Evaluate\n",
    "accuracy = accuracy_score(y_test, y_pred)\n",
    "print(f\"SVM Classifier Accuracy: {accuracy}\")\n"
   ]
  }
 ],
 "metadata": {
  "kernelspec": {
   "display_name": ".venv",
   "language": "python",
   "name": "python3"
  },
  "language_info": {
   "codemirror_mode": {
    "name": "ipython",
    "version": 3
   },
   "file_extension": ".py",
   "mimetype": "text/x-python",
   "name": "python",
   "nbconvert_exporter": "python",
   "pygments_lexer": "ipython3",
   "version": "3.10.4"
  },
  "orig_nbformat": 4
 },
 "nbformat": 4,
 "nbformat_minor": 2
}
